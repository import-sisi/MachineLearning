{
 "cells": [
  {
   "cell_type": "markdown",
   "metadata": {},
   "source": [
    "# Artificial Neural Networks With Keras"
   ]
  },
  {
   "cell_type": "code",
   "execution_count": 13,
   "metadata": {},
   "outputs": [],
   "source": [
    "import numpy as np\n",
    "import pandas as pd\n",
    "import matplotlib.pyplot as plt\n",
    "import tensorflow.keras as keras"
   ]
  },
  {
   "cell_type": "code",
   "execution_count": 14,
   "metadata": {},
   "outputs": [
    {
     "data": {
      "image/png": "[encoded data removed]",
      "text/plain": [
       "<Figure size 432x288 with 1 Axes>"
      ]
     },
     "metadata": {
      "needs_background": "light"
     },
     "output_type": "display_data"
    }
   ],
   "source": [
    "from sklearn.datasets import make_moons\n",
    "\n",
    "X1, y1 = make_moons(200, noise=0.15, shuffle=True)\n",
    "X2, y2 = make_moons(200, noise=0.2, shuffle=True)\n",
    "X = np.concatenate([X1, (X2+[3, -2])*[1.5, 2.5]])\n",
    "y = np.concatenate([y1, ~y2])\n",
    "colors = np.array(['red', 'blue'])\n",
    "plt.scatter(X[:, 0], X[:, 1], c=colors[y])\n",
    "plt.show()"
   ]
  },
  {
   "cell_type": "code",
   "execution_count": 16,
   "metadata": {},
   "outputs": [
    {
     "data": {
      "text/plain": [
       "array([0, 1, 1, 1, 0])"
      ]
     },
     "execution_count": 16,
     "metadata": {},
     "output_type": "execute_result"
    }
   ],
   "source": [
    "y[:5]"
   ]
  },
  {
   "cell_type": "code",
   "execution_count": 17,
   "metadata": {},
   "outputs": [],
   "source": [
    "y = keras.utils.to_categorical(y, num_classes=2)"
   ]
  },
  {
   "cell_type": "code",
   "execution_count": 18,
   "metadata": {},
   "outputs": [
    {
     "data": {
      "text/plain": [
       "array([[1., 0.],\n",
       "       [0., 1.],\n",
       "       [0., 1.],\n",
       "       [0., 1.],\n",
       "       [1., 0.],\n",
       "       [0., 1.],\n",
       "       [0., 1.],\n",
       "       [0., 1.],\n",
       "       [1., 0.],\n",
       "       [1., 0.]], dtype=float32)"
      ]
     },
     "execution_count": 18,
     "metadata": {},
     "output_type": "execute_result"
    }
   ],
   "source": [
    "y[:10]"
   ]
  },
  {
   "cell_type": "markdown",
   "metadata": {},
   "source": [
    "## The Functional API"
   ]
  },
  {
   "cell_type": "code",
   "execution_count": 24,
   "metadata": {},
   "outputs": [
    {
     "name": "stdout",
     "output_type": "stream",
     "text": [
      "Model: \"model_5\"\n",
      "_________________________________________________________________\n",
      "Layer (type)                 Output Shape              Param #   \n",
      "=================================================================\n",
      "input_4 (InputLayer)         [(None, 2)]               0         \n",
      "_________________________________________________________________\n",
      "dense_8 (Dense)              (None, 16)                48        \n",
      "_________________________________________________________________\n",
      "dense_9 (Dense)              (None, 2)                 34        \n",
      "=================================================================\n",
      "Total params: 82\n",
      "Trainable params: 82\n",
      "Non-trainable params: 0\n",
      "_________________________________________________________________\n"
     ]
    }
   ],
   "source": [
    "input_layer = keras.layers.Input(shape=(2, ))\n",
    "hidden_layer = keras.layers.Dense(16, activation='relu')(input_layer)\n",
    "output_layer = keras.layers.Dense(2, activation='softmax')(hidden_layer)\n",
    "\n",
    "ann_model = keras.Model(inputs=input_layer, outputs=output_layer)\n",
    "ann_model.summary()"
   ]
  },
  {
   "cell_type": "code",
   "execution_count": 27,
   "metadata": {},
   "outputs": [
    {
     "name": "stdout",
     "output_type": "stream",
     "text": [
      "Epoch 1/100\n",
      "10/10 [==============================] - 1s 38ms/step - loss: 0.5460 - accuracy: 0.7781 - val_loss: 0.6112 - val_accuracy: 0.7875\n",
      "Epoch 2/100\n",
      "10/10 [==============================] - 0s 8ms/step - loss: 0.5393 - accuracy: 0.7688 - val_loss: 0.6051 - val_accuracy: 0.7875\n",
      "Epoch 3/100\n",
      "10/10 [==============================] - 0s 8ms/step - loss: 0.5333 - accuracy: 0.7937 - val_loss: 0.6015 - val_accuracy: 0.8625\n",
      "Epoch 4/100\n",
      "10/10 [==============================] - 0s 4ms/step - loss: 0.5287 - accuracy: 0.8188 - val_loss: 0.5999 - val_accuracy: 0.8875\n",
      "Epoch 5/100\n",
      "10/10 [==============================] - 0s 5ms/step - loss: 0.5219 - accuracy: 0.8219 - val_loss: 0.5915 - val_accuracy: 0.8500\n",
      "Epoch 6/100\n",
      "10/10 [==============================] - 0s 5ms/step - loss: 0.5170 - accuracy: 0.8125 - val_loss: 0.5850 - val_accuracy: 0.8250\n",
      "Epoch 7/100\n",
      "10/10 [==============================] - 0s 5ms/step - loss: 0.5118 - accuracy: 0.8031 - val_loss: 0.5803 - val_accuracy: 0.8250\n",
      "Epoch 8/100\n",
      "10/10 [==============================] - 0s 5ms/step - loss: 0.5072 - accuracy: 0.8188 - val_loss: 0.5773 - val_accuracy: 0.8500\n",
      "Epoch 9/100\n",
      "10/10 [==============================] - 0s 5ms/step - loss: 0.5029 - accuracy: 0.8250 - val_loss: 0.5730 - val_accuracy: 0.8875\n",
      "Epoch 10/100\n",
      "10/10 [==============================] - 0s 4ms/step - loss: 0.4984 - accuracy: 0.8188 - val_loss: 0.5714 - val_accuracy: 0.9125\n",
      "Epoch 11/100\n",
      "10/10 [==============================] - 0s 4ms/step - loss: 0.4946 - accuracy: 0.8156 - val_loss: 0.5659 - val_accuracy: 0.9000\n",
      "Epoch 12/100\n",
      "10/10 [==============================] - 0s 4ms/step - loss: 0.4910 - accuracy: 0.8125 - val_loss: 0.5586 - val_accuracy: 0.8625\n",
      "Epoch 13/100\n",
      "10/10 [==============================] - 0s 4ms/step - loss: 0.4861 - accuracy: 0.8125 - val_loss: 0.5558 - val_accuracy: 0.8875\n",
      "Epoch 14/100\n",
      "10/10 [==============================] - 0s 4ms/step - loss: 0.4824 - accuracy: 0.8156 - val_loss: 0.5533 - val_accuracy: 0.9000\n",
      "Epoch 15/100\n",
      "10/10 [==============================] - 0s 4ms/step - loss: 0.4792 - accuracy: 0.8281 - val_loss: 0.5505 - val_accuracy: 0.9125\n",
      "Epoch 16/100\n",
      "10/10 [==============================] - 0s 5ms/step - loss: 0.4748 - accuracy: 0.8219 - val_loss: 0.5432 - val_accuracy: 0.9000\n",
      "Epoch 17/100\n",
      "10/10 [==============================] - 0s 6ms/step - loss: 0.4715 - accuracy: 0.8188 - val_loss: 0.5382 - val_accuracy: 0.8625\n",
      "Epoch 18/100\n",
      "10/10 [==============================] - 0s 4ms/step - loss: 0.4680 - accuracy: 0.8156 - val_loss: 0.5345 - val_accuracy: 0.8750\n",
      "Epoch 19/100\n",
      "10/10 [==============================] - 0s 4ms/step - loss: 0.4639 - accuracy: 0.8156 - val_loss: 0.5320 - val_accuracy: 0.9000\n",
      "Epoch 20/100\n",
      "10/10 [==============================] - 0s 4ms/step - loss: 0.4620 - accuracy: 0.8250 - val_loss: 0.5319 - val_accuracy: 0.9125\n",
      "Epoch 21/100\n",
      "10/10 [==============================] - 0s 4ms/step - loss: 0.4574 - accuracy: 0.8313 - val_loss: 0.5257 - val_accuracy: 0.9125\n",
      "Epoch 22/100\n",
      "10/10 [==============================] - 0s 14ms/step - loss: 0.4544 - accuracy: 0.8219 - val_loss: 0.5207 - val_accuracy: 0.9000\n",
      "Epoch 23/100\n",
      "10/10 [==============================] - 0s 6ms/step - loss: 0.4506 - accuracy: 0.8281 - val_loss: 0.5167 - val_accuracy: 0.9000\n",
      "Epoch 24/100\n",
      "10/10 [==============================] - 0s 4ms/step - loss: 0.4470 - accuracy: 0.8281 - val_loss: 0.5148 - val_accuracy: 0.9125\n",
      "Epoch 25/100\n",
      "10/10 [==============================] - 0s 4ms/step - loss: 0.4438 - accuracy: 0.8375 - val_loss: 0.5112 - val_accuracy: 0.9125\n",
      "Epoch 26/100\n",
      "10/10 [==============================] - 0s 4ms/step - loss: 0.4406 - accuracy: 0.8406 - val_loss: 0.5068 - val_accuracy: 0.9000\n",
      "Epoch 27/100\n",
      "10/10 [==============================] - 0s 6ms/step - loss: 0.4376 - accuracy: 0.8375 - val_loss: 0.5053 - val_accuracy: 0.9125\n",
      "Epoch 28/100\n",
      "10/10 [==============================] - 0s 4ms/step - loss: 0.4342 - accuracy: 0.8406 - val_loss: 0.5018 - val_accuracy: 0.9125\n",
      "Epoch 29/100\n",
      "10/10 [==============================] - 0s 4ms/step - loss: 0.4320 - accuracy: 0.8406 - val_loss: 0.5007 - val_accuracy: 0.9125\n",
      "Epoch 30/100\n",
      "10/10 [==============================] - 0s 4ms/step - loss: 0.4278 - accuracy: 0.8406 - val_loss: 0.4947 - val_accuracy: 0.9125\n",
      "Epoch 31/100\n",
      "10/10 [==============================] - 0s 4ms/step - loss: 0.4244 - accuracy: 0.8375 - val_loss: 0.4909 - val_accuracy: 0.9000\n",
      "Epoch 32/100\n",
      "10/10 [==============================] - 0s 4ms/step - loss: 0.4220 - accuracy: 0.8313 - val_loss: 0.4875 - val_accuracy: 0.9000\n",
      "Epoch 33/100\n",
      "10/10 [==============================] - 0s 4ms/step - loss: 0.4185 - accuracy: 0.8375 - val_loss: 0.4856 - val_accuracy: 0.9125\n",
      "Epoch 34/100\n",
      "10/10 [==============================] - 0s 4ms/step - loss: 0.4158 - accuracy: 0.8438 - val_loss: 0.4842 - val_accuracy: 0.9250\n",
      "Epoch 35/100\n",
      "10/10 [==============================] - 0s 4ms/step - loss: 0.4132 - accuracy: 0.8469 - val_loss: 0.4820 - val_accuracy: 0.9250\n",
      "Epoch 36/100\n",
      "10/10 [==============================] - 0s 4ms/step - loss: 0.4106 - accuracy: 0.8469 - val_loss: 0.4762 - val_accuracy: 0.9125\n",
      "Epoch 37/100\n",
      "10/10 [==============================] - 0s 4ms/step - loss: 0.4082 - accuracy: 0.8438 - val_loss: 0.4727 - val_accuracy: 0.9125\n",
      "Epoch 38/100\n",
      "10/10 [==============================] - 0s 4ms/step - loss: 0.4054 - accuracy: 0.8438 - val_loss: 0.4714 - val_accuracy: 0.9250\n",
      "Epoch 39/100\n",
      "10/10 [==============================] - 0s 4ms/step - loss: 0.4029 - accuracy: 0.8438 - val_loss: 0.4671 - val_accuracy: 0.9125\n",
      "Epoch 40/100\n",
      "10/10 [==============================] - 0s 4ms/step - loss: 0.4001 - accuracy: 0.8438 - val_loss: 0.4648 - val_accuracy: 0.9125\n",
      "Epoch 41/100\n",
      "10/10 [==============================] - 0s 4ms/step - loss: 0.3980 - accuracy: 0.8469 - val_loss: 0.4638 - val_accuracy: 0.9250\n",
      "Epoch 42/100\n",
      "10/10 [==============================] - 0s 4ms/step - loss: 0.3959 - accuracy: 0.8438 - val_loss: 0.4585 - val_accuracy: 0.9125\n",
      "Epoch 43/100\n",
      "10/10 [==============================] - 0s 4ms/step - loss: 0.3949 - accuracy: 0.8438 - val_loss: 0.4590 - val_accuracy: 0.9250\n",
      "Epoch 44/100\n",
      "10/10 [==============================] - 0s 4ms/step - loss: 0.3914 - accuracy: 0.8469 - val_loss: 0.4555 - val_accuracy: 0.9375\n",
      "Epoch 45/100\n",
      "10/10 [==============================] - 0s 4ms/step - loss: 0.3885 - accuracy: 0.8500 - val_loss: 0.4506 - val_accuracy: 0.9125\n",
      "Epoch 46/100\n",
      "10/10 [==============================] - 0s 4ms/step - loss: 0.3881 - accuracy: 0.8438 - val_loss: 0.4473 - val_accuracy: 0.9125\n",
      "Epoch 47/100\n",
      "10/10 [==============================] - 0s 4ms/step - loss: 0.3855 - accuracy: 0.8438 - val_loss: 0.4450 - val_accuracy: 0.9125\n",
      "Epoch 48/100\n",
      "10/10 [==============================] - 0s 4ms/step - loss: 0.3835 - accuracy: 0.8500 - val_loss: 0.4467 - val_accuracy: 0.9125\n",
      "Epoch 49/100\n",
      "10/10 [==============================] - 0s 4ms/step - loss: 0.3814 - accuracy: 0.8500 - val_loss: 0.4418 - val_accuracy: 0.9375\n",
      "Epoch 50/100\n",
      "10/10 [==============================] - 0s 4ms/step - loss: 0.3795 - accuracy: 0.8531 - val_loss: 0.4382 - val_accuracy: 0.9250\n",
      "Epoch 51/100\n",
      "10/10 [==============================] - 0s 4ms/step - loss: 0.3775 - accuracy: 0.8531 - val_loss: 0.4357 - val_accuracy: 0.9250\n",
      "Epoch 52/100\n",
      "10/10 [==============================] - 0s 4ms/step - loss: 0.3761 - accuracy: 0.8531 - val_loss: 0.4355 - val_accuracy: 0.9375\n",
      "Epoch 53/100\n",
      "10/10 [==============================] - 0s 4ms/step - loss: 0.3745 - accuracy: 0.8562 - val_loss: 0.4323 - val_accuracy: 0.9375\n",
      "Epoch 54/100\n",
      "10/10 [==============================] - 0s 4ms/step - loss: 0.3725 - accuracy: 0.8531 - val_loss: 0.4291 - val_accuracy: 0.9375\n",
      "Epoch 55/100\n",
      "10/10 [==============================] - 0s 4ms/step - loss: 0.3712 - accuracy: 0.8594 - val_loss: 0.4259 - val_accuracy: 0.9250\n",
      "Epoch 56/100\n",
      "10/10 [==============================] - 0s 4ms/step - loss: 0.3699 - accuracy: 0.8562 - val_loss: 0.4248 - val_accuracy: 0.9375\n",
      "Epoch 57/100\n",
      "10/10 [==============================] - 0s 4ms/step - loss: 0.3683 - accuracy: 0.8625 - val_loss: 0.4225 - val_accuracy: 0.9250\n",
      "Epoch 58/100\n",
      "10/10 [==============================] - 0s 4ms/step - loss: 0.3663 - accuracy: 0.8562 - val_loss: 0.4205 - val_accuracy: 0.9375\n",
      "Epoch 59/100\n",
      "10/10 [==============================] - 0s 4ms/step - loss: 0.3651 - accuracy: 0.8562 - val_loss: 0.4184 - val_accuracy: 0.9375\n",
      "Epoch 60/100\n",
      "10/10 [==============================] - 0s 4ms/step - loss: 0.3638 - accuracy: 0.8531 - val_loss: 0.4170 - val_accuracy: 0.9375\n",
      "Epoch 61/100\n",
      "10/10 [==============================] - 0s 4ms/step - loss: 0.3627 - accuracy: 0.8562 - val_loss: 0.4138 - val_accuracy: 0.9375\n",
      "Epoch 62/100\n",
      "10/10 [==============================] - 0s 4ms/step - loss: 0.3611 - accuracy: 0.8562 - val_loss: 0.4109 - val_accuracy: 0.9250\n",
      "Epoch 63/100\n",
      "10/10 [==============================] - 0s 4ms/step - loss: 0.3603 - accuracy: 0.8562 - val_loss: 0.4098 - val_accuracy: 0.9250\n",
      "Epoch 64/100\n",
      "10/10 [==============================] - 0s 4ms/step - loss: 0.3584 - accuracy: 0.8594 - val_loss: 0.4079 - val_accuracy: 0.9375\n",
      "Epoch 65/100\n",
      "10/10 [==============================] - 0s 4ms/step - loss: 0.3572 - accuracy: 0.8594 - val_loss: 0.4055 - val_accuracy: 0.9250\n",
      "Epoch 66/100\n",
      "10/10 [==============================] - 0s 7ms/step - loss: 0.3561 - accuracy: 0.8531 - val_loss: 0.4044 - val_accuracy: 0.9250\n",
      "Epoch 67/100\n",
      "10/10 [==============================] - 0s 4ms/step - loss: 0.3549 - accuracy: 0.8562 - val_loss: 0.4027 - val_accuracy: 0.9250\n",
      "Epoch 68/100\n",
      "10/10 [==============================] - 0s 4ms/step - loss: 0.3537 - accuracy: 0.8594 - val_loss: 0.3998 - val_accuracy: 0.9250\n",
      "Epoch 69/100\n",
      "10/10 [==============================] - 0s 4ms/step - loss: 0.3534 - accuracy: 0.8625 - val_loss: 0.3978 - val_accuracy: 0.9250\n",
      "Epoch 70/100\n",
      "10/10 [==============================] - 0s 4ms/step - loss: 0.3512 - accuracy: 0.8594 - val_loss: 0.3976 - val_accuracy: 0.9250\n",
      "Epoch 71/100\n",
      "10/10 [==============================] - 0s 4ms/step - loss: 0.3513 - accuracy: 0.8594 - val_loss: 0.3983 - val_accuracy: 0.9250\n",
      "Epoch 72/100\n",
      "10/10 [==============================] - 0s 4ms/step - loss: 0.3489 - accuracy: 0.8562 - val_loss: 0.3936 - val_accuracy: 0.9250\n",
      "Epoch 73/100\n",
      "10/10 [==============================] - 0s 15ms/step - loss: 0.3477 - accuracy: 0.8594 - val_loss: 0.3909 - val_accuracy: 0.9250\n",
      "Epoch 74/100\n",
      "10/10 [==============================] - 0s 4ms/step - loss: 0.3478 - accuracy: 0.8625 - val_loss: 0.3894 - val_accuracy: 0.9250\n",
      "Epoch 75/100\n",
      "10/10 [==============================] - 0s 4ms/step - loss: 0.3460 - accuracy: 0.8656 - val_loss: 0.3877 - val_accuracy: 0.9250\n",
      "Epoch 76/100\n",
      "10/10 [==============================] - 0s 4ms/step - loss: 0.3460 - accuracy: 0.8594 - val_loss: 0.3880 - val_accuracy: 0.9250\n",
      "Epoch 77/100\n",
      "10/10 [==============================] - 0s 4ms/step - loss: 0.3445 - accuracy: 0.8562 - val_loss: 0.3860 - val_accuracy: 0.9250\n",
      "Epoch 78/100\n",
      "10/10 [==============================] - 0s 4ms/step - loss: 0.3442 - accuracy: 0.8594 - val_loss: 0.3822 - val_accuracy: 0.9250\n",
      "Epoch 79/100\n",
      "10/10 [==============================] - 0s 4ms/step - loss: 0.3425 - accuracy: 0.8625 - val_loss: 0.3808 - val_accuracy: 0.9250\n",
      "Epoch 80/100\n",
      "10/10 [==============================] - 0s 4ms/step - loss: 0.3418 - accuracy: 0.8594 - val_loss: 0.3796 - val_accuracy: 0.9250\n",
      "Epoch 81/100\n",
      "10/10 [==============================] - 0s 4ms/step - loss: 0.3404 - accuracy: 0.8594 - val_loss: 0.3792 - val_accuracy: 0.9250\n",
      "Epoch 82/100\n",
      "10/10 [==============================] - 0s 4ms/step - loss: 0.3416 - accuracy: 0.8500 - val_loss: 0.3791 - val_accuracy: 0.9375\n",
      "Epoch 83/100\n",
      "10/10 [==============================] - 0s 4ms/step - loss: 0.3390 - accuracy: 0.8562 - val_loss: 0.3748 - val_accuracy: 0.9250\n",
      "Epoch 84/100\n",
      "10/10 [==============================] - 0s 4ms/step - loss: 0.3384 - accuracy: 0.8625 - val_loss: 0.3736 - val_accuracy: 0.9250\n",
      "Epoch 85/100\n",
      "10/10 [==============================] - 0s 4ms/step - loss: 0.3379 - accuracy: 0.8594 - val_loss: 0.3735 - val_accuracy: 0.9250\n",
      "Epoch 86/100\n",
      "10/10 [==============================] - 0s 4ms/step - loss: 0.3364 - accuracy: 0.8625 - val_loss: 0.3717 - val_accuracy: 0.9250\n",
      "Epoch 87/100\n",
      "10/10 [==============================] - 0s 4ms/step - loss: 0.3356 - accuracy: 0.8625 - val_loss: 0.3690 - val_accuracy: 0.9125\n",
      "Epoch 88/100\n",
      "10/10 [==============================] - 0s 4ms/step - loss: 0.3352 - accuracy: 0.8625 - val_loss: 0.3678 - val_accuracy: 0.9250\n",
      "Epoch 89/100\n",
      "10/10 [==============================] - 0s 4ms/step - loss: 0.3340 - accuracy: 0.8625 - val_loss: 0.3676 - val_accuracy: 0.9250\n",
      "Epoch 90/100\n",
      "10/10 [==============================] - 0s 4ms/step - loss: 0.3334 - accuracy: 0.8625 - val_loss: 0.3664 - val_accuracy: 0.9250\n",
      "Epoch 91/100\n",
      "10/10 [==============================] - 0s 4ms/step - loss: 0.3326 - accuracy: 0.8625 - val_loss: 0.3644 - val_accuracy: 0.9250\n",
      "Epoch 92/100\n",
      "10/10 [==============================] - 0s 4ms/step - loss: 0.3318 - accuracy: 0.8625 - val_loss: 0.3626 - val_accuracy: 0.9250\n",
      "Epoch 93/100\n",
      "10/10 [==============================] - 0s 4ms/step - loss: 0.3315 - accuracy: 0.8594 - val_loss: 0.3622 - val_accuracy: 0.9375\n",
      "Epoch 94/100\n",
      "10/10 [==============================] - 0s 4ms/step - loss: 0.3302 - accuracy: 0.8625 - val_loss: 0.3608 - val_accuracy: 0.9250\n",
      "Epoch 95/100\n",
      "10/10 [==============================] - 0s 4ms/step - loss: 0.3295 - accuracy: 0.8625 - val_loss: 0.3593 - val_accuracy: 0.9250\n",
      "Epoch 96/100\n",
      "10/10 [==============================] - 0s 4ms/step - loss: 0.3291 - accuracy: 0.8625 - val_loss: 0.3578 - val_accuracy: 0.9250\n",
      "Epoch 97/100\n",
      "10/10 [==============================] - 0s 4ms/step - loss: 0.3282 - accuracy: 0.8625 - val_loss: 0.3568 - val_accuracy: 0.9250\n",
      "Epoch 98/100\n",
      "10/10 [==============================] - 0s 4ms/step - loss: 0.3274 - accuracy: 0.8625 - val_loss: 0.3557 - val_accuracy: 0.9250\n",
      "Epoch 99/100\n",
      "10/10 [==============================] - 0s 4ms/step - loss: 0.3267 - accuracy: 0.8625 - val_loss: 0.3540 - val_accuracy: 0.9125\n",
      "Epoch 100/100\n",
      "10/10 [==============================] - 0s 4ms/step - loss: 0.3259 - accuracy: 0.8625 - val_loss: 0.3529 - val_accuracy: 0.9250\n"
     ]
    }
   ],
   "source": [
    "ann_model = keras.Model(inputs=input_layer, outputs=output_layer)\n",
    "\n",
    "ann_model.compile(\n",
    "    optimizer='adam',\n",
    "    loss='categorical_crossentropy',\n",
    "    metrics=['accuracy']\n",
    ")\n",
    "\n",
    "n_epochs = 100 # <- play around with n_epochs\n",
    "\n",
    "history = ann_model.fit(X, y, validation_split=0.2, batch_size=32, epochs=n_epochs)"
   ]
  },
  {
   "cell_type": "code",
   "execution_count": 28,
   "metadata": {},
   "outputs": [
    {
     "data": {
      "image/png": "[encoded data removed]",
      "text/plain": [
       "<Figure size 576x360 with 1 Axes>"
      ]
     },
     "metadata": {
      "needs_background": "light"
     },
     "output_type": "display_data"
    }
   ],
   "source": [
    "import matplotlib.pyplot as plt\n",
    "import pandas as pd\n",
    "\n",
    "pd.DataFrame(history.history)[['accuracy', 'val_accuracy']].plot(\n",
    "    figsize=(8, 5), xlim=[0, n_epochs], ylim=[0, 1], grid=True, xlabel=\"Epoch\",\n",
    "    style=[\"r-*\", \"b-*\"])\n",
    "plt.legend(loc=\"lower left\")  # extra code\n",
    "plt.show()"
   ]
  },
  {
   "cell_type": "markdown",
   "metadata": {},
   "source": [
    "## The Sequential API"
   ]
  },
  {
   "cell_type": "code",
   "execution_count": 9,
   "metadata": {},
   "outputs": [
    {
     "name": "stdout",
     "output_type": "stream",
     "text": [
      "WARNING:tensorflow:Please add `keras.layers.InputLayer` instead of `keras.Input` to Sequential model. `keras.Input` is intended to be used by Functional model.\n"
     ]
    }
   ],
   "source": [
    "activation = 'relu'\n",
    "ann_model = keras.Sequential([\n",
    "    keras.layers.Input(shape=(2)),\n",
    "    keras.layers.Dense(32, activation=activation),\n",
    "    keras.layers.Dense(32, activation=activation),\n",
    "    keras.layers.Dense(16, activation=activation),\n",
    "    keras.layers.Dense(2, activation='softmax')\n",
    "])\n",
    "\n",
    "ann_model.compile(\n",
    "    optimizer='adam',\n",
    "    loss='categorical_crossentropy',\n",
    "    metrics=['accuracy']\n",
    ")\n",
    "\n",
    "n_epochs = 100\n",
    "history = ann_model.fit(X, y, validation_split=0.2, batch_size=64, epochs=n_epochs, verbose=0)"
   ]
  },
  {
   "cell_type": "code",
   "execution_count": 10,
   "metadata": {},
   "outputs": [
    {
     "data": {
      "image/png": "[encoded data removed]",
      "text/plain": [
       "<Figure size 576x360 with 1 Axes>"
      ]
     },
     "metadata": {
      "needs_background": "light"
     },
     "output_type": "display_data"
    }
   ],
   "source": [
    "import matplotlib.pyplot as plt\n",
    "import pandas as pd\n",
    "\n",
    "pd.DataFrame(history.history)[['accuracy', 'val_accuracy']].plot(\n",
    "    figsize=(8, 5), xlim=[0, n_epochs], ylim=[0, 1], grid=True, xlabel=\"Epoch\",\n",
    "    style=[\"r-*\", \"b-*\"])\n",
    "plt.axvline(np.argmax(history.history['val_accuracy']), c='blue')\n",
    "plt.axvline(np.argmax(history.history['accuracy']), c='red')\n",
    "plt.legend(loc=\"lower left\")  # extra code\n",
    "plt.show()"
   ]
  },
  {
   "cell_type": "code",
   "execution_count": null,
   "metadata": {},
   "outputs": [],
   "source": []
  },
  {
   "cell_type": "code",
   "execution_count": null,
   "metadata": {},
   "outputs": [],
   "source": []
  }
 ],
 "metadata": {
  "kernelspec": {
   "display_name": "Python 3 (ipykernel)",
   "language": "python",
   "name": "python3"
  },
  "language_info": {
   "codemirror_mode": {
    "name": "ipython",
    "version": 3
   },
   "file_extension": ".py",
   "mimetype": "text/x-python",
   "name": "python",
   "nbconvert_exporter": "python",
   "pygments_lexer": "ipython3",
   "version": "3.10.9"
  }
 },
 "nbformat": 4,
 "nbformat_minor": 2
}
